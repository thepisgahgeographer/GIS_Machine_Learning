{
 "cells": [
  {
   "cell_type": "markdown",
   "metadata": {},
   "source": [
    "### Submit a URL Request for a Download Operation"
   ]
  },
  {
   "cell_type": "code",
   "execution_count": null,
   "metadata": {},
   "outputs": [],
   "source": [
    "import requests\n",
    "\n",
    "print('Beginning file download')\n",
    "\n",
    "url = 'https://dit-cgia-gis-data.s3.amazonaws.com/NCOM-data/orthoimagery/SrcData/2018/OC6i0_37_000_10276903_20180209_0331R0.sid'\n",
    "req = requests.get(url)\n",
    "\n",
    "with open(r'C:\\Development_Projects\\GIS_Machine_Learning\\test.sid', 'wb') as f:\n",
    "    f.write(req.content)\n",
    "\n",
    "# Retrieve HTTP meta-data\n",
    "print(req.status_code)\n",
    "print(req.headers['content-type'])\n"
   ]
  },
  {
   "cell_type": "code",
   "execution_count": null,
   "metadata": {},
   "outputs": [],
   "source": []
  }
 ],
 "metadata": {
  "language_info": {
   "codemirror_mode": {
    "name": "ipython",
    "version": 3
   },
   "file_extension": ".py",
   "mimetype": "text/x-python",
   "name": "python",
   "nbconvert_exporter": "python",
   "pygments_lexer": "ipython3",
   "version": "3.6.10-final"
  },
  "orig_nbformat": 2,
  "kernelspec": {
   "name": "python3",
   "display_name": "Python 3"
  }
 },
 "nbformat": 4,
 "nbformat_minor": 2
}