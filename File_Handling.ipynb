{
 "cells": [
  {
   "cell_type": "markdown",
   "metadata": {},
   "source": [
    "### Submit a URL Request for a Download Operation"
   ]
  },
  {
   "cell_type": "code",
   "execution_count": null,
   "metadata": {},
   "outputs": [],
   "source": [
    "import requests\n",
    "\n",
    "print('Beginning file download')\n",
    "\n",
    "url = 'https://dit-cgia-gis-data.s3.amazonaws.com/NCOM-data/orthoimagery/SrcData/2018/OC6i0_37_000_10276903_20180209_0331R0.sid'\n",
    "req = requests.get(url)\n",
    "\n",
    "with open(r'C:\\Development_Projects\\GIS_Machine_Learning\\test.sid', 'wb') as f:\n",
    "    f.write(req.content)\n",
    "\n",
    "# Retrieve HTTP meta-data\n",
    "print(req.status_code)\n",
    "print(req.headers['content-type'])\n"
   ]
  },
  {
   "cell_type": "markdown",
   "metadata": {},
   "source": [
    "### Handing File Paths with regular expressions\n",
    "\n",
    "#### /([^/]+)_\\d+.jpg$\n",
    "#### $ \tend of search\n",
    "#### .jpg \tlast chars to be found in the search string, also right file format checking\n",
    "\\d \tnumerical digits, ‘+’ sign denotes can be one or more of them\n",
    "#### _ \tshould come before the start of digits\n",
    "#### () \tdenotes a group of characters\n",
    "#### [] \tdenotes another subgroup if characters in the previous group\n",
    "#### ^/ \t‘^’ denotes negation, so ‘+’ says all other chars except ‘/’\n",
    "#### ( [ ^/ ] + ) \tsearches all characters except ‘/’\n",
    "#### / \tfirst ‘/’ in regex says, end of search\n",
    "#### r \tThe string should be a raw string. Otherwise, \\d would have to be written as \\\\d so that Python doesn’t interpret it to be a special character."
   ]
  },
  {
   "cell_type": "code",
   "execution_count": 30,
   "metadata": {},
   "outputs": [
    {
     "output_type": "stream",
     "name": "stdout",
     "text": "None\n"
    }
   ],
   "source": [
    "\n",
    "import re\n",
    "\n",
    "urlString = r'C:\\GIS_Data\\Raster_Data\\Drone_Imagery\\test\\Project\\Data\\Thumbnails'\n",
    "path = r'/d+.jpg$'\n",
    "\n",
    "\n",
    "pat = re.compile(pat)\n",
    "print(pat.search(urlString))\n",
    "\n"
   ]
  },
  {
   "cell_type": "code",
   "execution_count": null,
   "metadata": {},
   "outputs": [],
   "source": []
  }
 ],
 "metadata": {
  "language_info": {
   "codemirror_mode": {
    "name": "ipython",
    "version": 3
   },
   "file_extension": ".py",
   "mimetype": "text/x-python",
   "name": "python",
   "nbconvert_exporter": "python",
   "pygments_lexer": "ipython3",
   "version": "3.6.10-final"
  },
  "orig_nbformat": 2,
  "kernelspec": {
   "name": "python3",
   "display_name": "Python 3"
  }
 },
 "nbformat": 4,
 "nbformat_minor": 2
}