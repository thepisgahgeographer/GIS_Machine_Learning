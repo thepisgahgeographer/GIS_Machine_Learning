{
 "cells": [
  {
   "cell_type": "markdown",
   "metadata": {},
   "source": [
    "### Submit a URL Request for a Download Operation"
   ]
  },
  {
   "cell_type": "code",
   "execution_count": null,
   "metadata": {},
   "outputs": [],
   "source": [
    "import requests\n",
    "\n",
    "print('Beginning file download')\n",
    "\n",
    "url = 'https://dit-cgia-gis-data.s3.amazonaws.com/NCOM-data/orthoimagery/SrcData/2018/OC6i0_37_000_10276903_20180209_0331R0.sid'\n",
    "req = requests.get(url)\n",
    "\n",
    "with open(r'C:\\Development_Projects\\GIS_Machine_Learning\\test.sid', 'wb') as f:\n",
    "    f.write(req.content)\n",
    "\n",
    "# Retrieve HTTP meta-data\n",
    "print(req.status_code)\n",
    "print(req.headers['content-type'])\n"
   ]
  },
  {
   "cell_type": "markdown",
   "metadata": {},
   "source": [
    "### Handing File Paths with regular expressions\n",
    "\n",
    "#### /([^/]+)_\\d+.jpg$\n",
    "#### $ \tend of search\n",
    "#### .jpg \tlast chars to be found in the search string, also right file format checking\n",
    "\\d \tnumerical digits, ‘+’ sign denotes can be one or more of them\n",
    "#### _ \tshould come before the start of digits\n",
    "#### () \tdenotes a group of characters\n",
    "#### [] \tdenotes another subgroup if characters in the previous group\n",
    "#### ^/ \t‘^’ denotes negation, so ‘+’ says all other chars except ‘/’\n",
    "#### ( [ ^/ ] + ) \tsearches all characters except ‘/’\n",
    "#### / \tfirst ‘/’ in regex says, end of search\n",
    "#### r \tThe string should be a raw string. Otherwise, \\d would have to be written as \\\\d so that Python doesn’t interpret it to be a special character."
   ]
  },
  {
   "cell_type": "code",
   "execution_count": null,
   "metadata": {},
   "outputs": [],
   "source": [
    "\n",
    "import re\n",
    "\n",
    "urlString = r'C:\\GIS_Data\\Raster_Data\\Drone_Imagery\\test\\Project\\Data\\Thumbnails'\n",
    "\n",
    "strings = re.findall(r'.JPG', urlString)\n",
    "\n",
    "for image in strings:\n",
    "    print(image)\n"
   ]
  },
  {
   "cell_type": "markdown",
   "metadata": {},
   "source": [
    "### Searching for Image files based on extension name."
   ]
  },
  {
   "cell_type": "code",
   "execution_count": 38,
   "metadata": {},
   "outputs": [
    {
     "output_type": "stream",
     "name": "stdout",
     "text": "['OC6i0_37_000_10184001_20100518R0.sid', 'OC6i0_37_000_10184002_20100518R0.sid', 'OC6i0_37_000_10184003_20100518R0.sid', 'OC6i0_37_000_10184004_20100518R0.sid', 'OC6i0_37_000_10185001_20100518R0.sid', 'OC6i0_37_000_10185002_20100518R0.sid', 'OC6i0_37_000_10185003_20100518R0.sid', 'OC6i0_37_000_10185004_20100518R0.sid']\nNumber of Image Files: 8\n<class 'list'>\n"
    }
   ],
   "source": [
    "import os\n",
    "\n",
    "mydir = r\"C:\\GIS_Data\\Raster_Data\\MRSID\"\n",
    "\n",
    "image_files = [f for f in os.listdir(mydir) if f.endswith('.sid')]\n",
    "print(image_files)\n",
    "print(\"Number of Image Files: {}\".format(len(image_files)))\n",
    "print(type(image_files))"
   ]
  },
  {
   "cell_type": "code",
   "execution_count": null,
   "metadata": {},
   "outputs": [],
   "source": []
  }
 ],
 "metadata": {
  "language_info": {
   "codemirror_mode": {
    "name": "ipython",
    "version": 3
   },
   "file_extension": ".py",
   "mimetype": "text/x-python",
   "name": "python",
   "nbconvert_exporter": "python",
   "pygments_lexer": "ipython3",
   "version": "3.6.10-final"
  },
  "orig_nbformat": 2,
  "kernelspec": {
   "name": "python3",
   "display_name": "Python 3"
  }
 },
 "nbformat": 4,
 "nbformat_minor": 2
}