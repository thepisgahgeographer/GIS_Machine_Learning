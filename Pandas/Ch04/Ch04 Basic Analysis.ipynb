{
 "cells": [
  {
   "cell_type": "markdown",
   "metadata": {},
   "source": [
    "# Basic Analysis"
   ]
  },
  {
   "cell_type": "code",
   "execution_count": null,
   "metadata": {
    "collapsed": true
   },
   "outputs": [],
   "source": [
    "import pandas as pd"
   ]
  },
  {
   "cell_type": "code",
   "execution_count": null,
   "metadata": {},
   "outputs": [],
   "source": [
    "oo = pd.read_csv('../data/olympics.csv', skiprows=4)\n",
    "oo.head()"
   ]
  },
  {
   "cell_type": "code",
   "execution_count": null,
   "metadata": {
    "collapsed": true
   },
   "outputs": [],
   "source": []
  },
  {
   "cell_type": "markdown",
   "metadata": {},
   "source": [
    "### value_counts()"
   ]
  },
  {
   "cell_type": "code",
   "execution_count": null,
   "metadata": {},
   "outputs": [],
   "source": [
    "oo.Athlete.value_counts()"
   ]
  },
  {
   "cell_type": "code",
   "execution_count": null,
   "metadata": {},
   "outputs": [],
   "source": [
    "oo.Gender.value_counts(ascending=True,dropna=False)"
   ]
  },
  {
   "cell_type": "markdown",
   "metadata": {},
   "source": [
    "### sort_values()"
   ]
  },
  {
   "cell_type": "code",
   "execution_count": null,
   "metadata": {},
   "outputs": [],
   "source": [
    "ath = oo.Athlete.sort_values()\n",
    "ath"
   ]
  },
  {
   "cell_type": "code",
   "execution_count": null,
   "metadata": {},
   "outputs": [],
   "source": [
    "oo.sort_values(by=['Edition','Athlete'])\n"
   ]
  },
  {
   "cell_type": "code",
   "execution_count": null,
   "metadata": {
    "collapsed": true
   },
   "outputs": [],
   "source": [
    "pd.sort_values()"
   ]
  },
  {
   "cell_type": "markdown",
   "metadata": {},
   "source": [
    "### Boolean indexing"
   ]
  },
  {
   "cell_type": "code",
   "execution_count": null,
   "metadata": {},
   "outputs": [],
   "source": [
    "oo.head()"
   ]
  },
  {
   "cell_type": "code",
   "execution_count": null,
   "metadata": {},
   "outputs": [],
   "source": [
    "oo[(oo.Medal == 'Gold') & (oo.Gender == 'Women')]"
   ]
  },
  {
   "cell_type": "code",
   "execution_count": null,
   "metadata": {
    "collapsed": true
   },
   "outputs": [],
   "source": [
    "oo[oo.Medal == \"Gold\"]\n"
   ]
  },
  {
   "cell_type": "markdown",
   "metadata": {},
   "source": [
    "### String handling"
   ]
  },
  {
   "cell_type": "code",
   "execution_count": null,
   "metadata": {},
   "outputs": [],
   "source": [
    "oo[oo.Athlete.str.contains('Florence')]"
   ]
  },
  {
   "cell_type": "code",
   "execution_count": 32,
   "metadata": {},
   "outputs": [
    {
     "output_type": "execute_result",
     "data": {
      "text/plain": "        City  Edition      Sport Discipline       Athlete  NOC Gender  \\\n6427  Berlin     1936  Athletics  Athletics  OWENS, Jesse  USA    Men   \n6439  Berlin     1936  Athletics  Athletics  OWENS, Jesse  USA    Men   \n6456  Berlin     1936  Athletics  Athletics  OWENS, Jesse  USA    Men   \n6523  Berlin     1936  Athletics  Athletics  OWENS, Jesse  USA    Men   \n\n             Event Event_gender Medal  \n6427          100m            M  Gold  \n6439          200m            M  Gold  \n6456  4x100m relay            M  Gold  \n6523     long jump            M  Gold  ",
      "text/html": "<div>\n<style scoped>\n    .dataframe tbody tr th:only-of-type {\n        vertical-align: middle;\n    }\n\n    .dataframe tbody tr th {\n        vertical-align: top;\n    }\n\n    .dataframe thead th {\n        text-align: right;\n    }\n</style>\n<table border=\"1\" class=\"dataframe\">\n  <thead>\n    <tr style=\"text-align: right;\">\n      <th></th>\n      <th>City</th>\n      <th>Edition</th>\n      <th>Sport</th>\n      <th>Discipline</th>\n      <th>Athlete</th>\n      <th>NOC</th>\n      <th>Gender</th>\n      <th>Event</th>\n      <th>Event_gender</th>\n      <th>Medal</th>\n    </tr>\n  </thead>\n  <tbody>\n    <tr>\n      <th>6427</th>\n      <td>Berlin</td>\n      <td>1936</td>\n      <td>Athletics</td>\n      <td>Athletics</td>\n      <td>OWENS, Jesse</td>\n      <td>USA</td>\n      <td>Men</td>\n      <td>100m</td>\n      <td>M</td>\n      <td>Gold</td>\n    </tr>\n    <tr>\n      <th>6439</th>\n      <td>Berlin</td>\n      <td>1936</td>\n      <td>Athletics</td>\n      <td>Athletics</td>\n      <td>OWENS, Jesse</td>\n      <td>USA</td>\n      <td>Men</td>\n      <td>200m</td>\n      <td>M</td>\n      <td>Gold</td>\n    </tr>\n    <tr>\n      <th>6456</th>\n      <td>Berlin</td>\n      <td>1936</td>\n      <td>Athletics</td>\n      <td>Athletics</td>\n      <td>OWENS, Jesse</td>\n      <td>USA</td>\n      <td>Men</td>\n      <td>4x100m relay</td>\n      <td>M</td>\n      <td>Gold</td>\n    </tr>\n    <tr>\n      <th>6523</th>\n      <td>Berlin</td>\n      <td>1936</td>\n      <td>Athletics</td>\n      <td>Athletics</td>\n      <td>OWENS, Jesse</td>\n      <td>USA</td>\n      <td>Men</td>\n      <td>long jump</td>\n      <td>M</td>\n      <td>Gold</td>\n    </tr>\n  </tbody>\n</table>\n</div>"
     },
     "metadata": {},
     "execution_count": 32
    }
   ],
   "source": [
    "oo[oo.Athlete.str.contains(\"OWENS\")]"
   ]
  },
  {
   "cell_type": "code",
   "execution_count": 34,
   "metadata": {},
   "outputs": [
    {
     "output_type": "execute_result",
     "data": {
      "text/plain": "Empty DataFrame\nColumns: [City, Edition, Sport, Discipline, Athlete, NOC, Gender, Event, Event_gender, Medal]\nIndex: []",
      "text/html": "<div>\n<style scoped>\n    .dataframe tbody tr th:only-of-type {\n        vertical-align: middle;\n    }\n\n    .dataframe tbody tr th {\n        vertical-align: top;\n    }\n\n    .dataframe thead th {\n        text-align: right;\n    }\n</style>\n<table border=\"1\" class=\"dataframe\">\n  <thead>\n    <tr style=\"text-align: right;\">\n      <th></th>\n      <th>City</th>\n      <th>Edition</th>\n      <th>Sport</th>\n      <th>Discipline</th>\n      <th>Athlete</th>\n      <th>NOC</th>\n      <th>Gender</th>\n      <th>Event</th>\n      <th>Event_gender</th>\n      <th>Medal</th>\n    </tr>\n  </thead>\n  <tbody>\n  </tbody>\n</table>\n</div>"
     },
     "metadata": {},
     "execution_count": 34
    }
   ],
   "source": [
    "oo[oo.Event.str.contains(\"badminton\")]"
   ]
  },
  {
   "cell_type": "code",
   "execution_count": null,
   "metadata": {},
   "outputs": [],
   "source": []
  }
 ],
 "metadata": {
  "kernelspec": {
   "display_name": "Python 3",
   "language": "python",
   "name": "python3"
  },
  "language_info": {
   "codemirror_mode": {
    "name": "ipython",
    "version": 3
   },
   "file_extension": ".py",
   "mimetype": "text/x-python",
   "name": "python",
   "nbconvert_exporter": "python",
   "pygments_lexer": "ipython3",
   "version": "3.6.9-final"
  }
 },
 "nbformat": 4,
 "nbformat_minor": 1
}