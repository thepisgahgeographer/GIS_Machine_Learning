{
 "cells": [
  {
   "cell_type": "code",
   "execution_count": 39,
   "metadata": {},
   "outputs": [
    {
     "output_type": "stream",
     "name": "stdout",
     "text": "151    lower South Mountains State Park line downstre...\n153    lower South Mountains State Park line downstre...\n293    lower South Mountains State Park line downstre...\nName: Reg_Descri, dtype: object\n293    lower South Mountains State Park line downstre...\nName: Reg_Descri, dtype: object\n"
    }
   ],
   "source": [
    "import numpy as np\n",
    "import pandas as pd\n",
    "\n",
    "df = pd.DataFrame({\n",
    "     \"Name\": [\"Braund, Mr. Owen Harris\",\n",
    "            \"Allen, Mr. William Hendfry\",\n",
    "              \"Bonnell, Miss. Elizabeth\"],\n",
    "     \"Age\": [22, 35, 58],\n",
    "     \"Sex\": [\"male\", \"male\", \"female\"]})\n",
    "#df\n",
    "#series1 = df[\"Age\"]\n",
    "#series1.max(), series1.min()\n",
    "\n",
    "#test = df.describe()\n",
    "#test\n",
    "\n",
    "streams = pd.read_csv(r\"C:\\Users\\yuri7100\\Desktop\\Python_AI\\Trout_Streams.csv\")\n",
    "#print(streams[\"Displ_Name\"])\n",
    "#print(streams.dtypes)\n",
    "#print(streams.info)\n",
    "#print(streams)\n",
    "\n",
    "\n",
    "#henryFork = streams[(streams[\"Displ_Name\"] == \"Henry Fork\") & (streams[\"WRC_CLASS\"] == \"Hatchery Supported Trout Waters\")]\n",
    "#print(henryFork)\n",
    "\n",
    "shinnyCreek = streams.loc[streams[\"Displ_Name\"] == \"Shinny Creek\", \"WRC_CLASS\"]\n",
    "#print(shinnyCreek)\n",
    "\n",
    "henryFork = streams.loc[(streams[\"Displ_Name\"] == \"Henry Fork\") & (streams[\"WRC_CLASS\"] == \"Hatchery Supported Trout Waters\"), \"Reg_Descri\"]\n",
    "print(henryFork)\n",
    "print(henryFork.iloc[2:])\n",
    "#streams2 = streams[streams[\"Displ_Name\"] == \"Henry Fork\"]\n",
    "#streams2\n",
    "\n",
    "\n",
    "#streams.iloc[1:10, 2:4]\n",
    "\n",
    "\n"
   ]
  },
  {
   "cell_type": "code",
   "execution_count": null,
   "metadata": {},
   "outputs": [],
   "source": []
  }
 ],
 "metadata": {
  "language_info": {
   "codemirror_mode": {
    "name": "ipython",
    "version": 3
   },
   "file_extension": ".py",
   "mimetype": "text/x-python",
   "name": "python",
   "nbconvert_exporter": "python",
   "pygments_lexer": "ipython3",
   "version": "3.6.10-final"
  },
  "orig_nbformat": 2,
  "kernelspec": {
   "name": "python3",
   "display_name": "Python 3"
  }
 },
 "nbformat": 4,
 "nbformat_minor": 2
}