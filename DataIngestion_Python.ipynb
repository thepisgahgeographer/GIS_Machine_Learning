{
 "cells": [
  {
   "cell_type": "code",
   "execution_count": 40,
   "metadata": {},
   "outputs": [
    {
     "output_type": "stream",
     "name": "stdout",
     "text": "313    5148.673882\n339    5278.581060\n366     927.324350\n388    7350.877178\nName: Shape_Leng, dtype: float64\n"
    }
   ],
   "source": [
    "import numpy as np\n",
    "import pandas as pd\n",
    "import matplotlib as plt\n",
    "from datetime import datetime\n",
    "\n",
    "\n",
    "df = pd.DataFrame({\n",
    "     \"Name\": [\"Braund, Mr. Owen Harris\",\n",
    "            \"Allen, Mr. William Hendfry\",\n",
    "              \"Bonnell, Miss. Elizabeth\"],\n",
    "     \"Age\": [22, 35, 58],\n",
    "     \"Sex\": [\"male\", \"male\", \"female\"]})\n",
    "#df\n",
    "#series1 = df[\"Age\"]\n",
    "#series1.max(), series1.min()\n",
    "\n",
    "#test = df.describe()\n",
    "#test\n",
    "\n",
    "streams = pd.read_csv(r\"C:\\Users\\yuri7100\\Desktop\\Python_AI\\Trout_Streams.csv\")\n",
    "#print(streams[\"Displ_Name\"])\n",
    "#print(streams.dtypes)\n",
    "#print(streams.info)\n",
    "#print(streams)\n",
    "\n",
    "\n",
    "#henryFork = streams[(streams[\"Displ_Name\"] == \"Henry Fork\") & (streams[\"WRC_CLASS\"] == \"Hatchery Supported Trout Waters\")]\n",
    "#print(henryFork)\n",
    "\n",
    "shinnyCreek = streams.loc[streams[\"Displ_Name\"] == \"Shinny Creek\", \"WRC_CLASS\"]\n",
    "#print(shinnyCreek)\n",
    "\n",
    "shinnyCreekLen = streams.loc[streams[\"Displ_Name\"] == \"Shinny Creek\", \"Shape_Leng\"]\n",
    "print(shinnyCreekLen)\n",
    "\n",
    "henryFork = streams.loc[(streams[\"Displ_Name\"] == \"Henry Fork\") & (streams[\"WRC_CLASS\"] == \"Hatchery Supported Trout Waters\"), \"Reg_Descri\"]\n",
    "#print(henryFork)\n",
    "#print(henryFork.iloc[2:])\n",
    "#streams2 = streams[streams[\"Displ_Name\"] == \"Henry Fork\"]\n",
    "#streams2\n",
    "\n",
    "#streams.plot.scatter(x = \"Shape_Leng\", y = \"WRC_CLASS\")\n",
    "#print([method_name for method_name in dir(streams.plot)])\n",
    "#streams.plot.box()\n",
    "#df.plot()\n",
    "\n",
    "#Create a new column based upon information from the DataFrame & a feature level Query\n",
    "streams[\"Creek_Length\"] = streams[\"Shape_Leng\"]<500\n",
    "#streams.head(25).plot()\n",
    "\n",
    "streams[\"Creek_Mileage\"] = streams[\"Shape_Leng\"] / 5280\n",
    "streams.head(5)\n",
    "\n",
    "#Rename a column from the Data Frame based upon the rename() function\n",
    "Rename = streams.rename(columns={\"WRC_CLASS\": \"Regulations\", \"Reg_Descri\": \"Location\"})\n",
    "\n",
    "#Pass Python functions into the table logic\n",
    "Rename2 = streams.rename(columns=str.lower)\n",
    "\n",
    "\n",
    "\n"
   ]
  },
  {
   "cell_type": "code",
   "execution_count": null,
   "metadata": {},
   "outputs": [],
   "source": []
  }
 ],
 "metadata": {
  "language_info": {
   "codemirror_mode": {
    "name": "ipython",
    "version": 3
   },
   "file_extension": ".py",
   "mimetype": "text/x-python",
   "name": "python",
   "nbconvert_exporter": "python",
   "pygments_lexer": "ipython3",
   "version": "3.6.10-final"
  },
  "orig_nbformat": 2,
  "kernelspec": {
   "name": "python3",
   "display_name": "Python 3"
  }
 },
 "nbformat": 4,
 "nbformat_minor": 2
}