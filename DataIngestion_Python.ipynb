{
 "cells": [
  {
   "cell_type": "code",
   "execution_count": 70,
   "metadata": {},
   "outputs": [
    {
     "output_type": "stream",
     "name": "stdout",
     "text": "OBJECTID                        WRC_CLASS  \\\n151      8396  Hatchery Supported Trout Waters   \n153      8516  Hatchery Supported Trout Waters   \n293     16808  Hatchery Supported Trout Waters   \n\n                                            WEB_Refere  \\\n151  http://www.ncwildlife.org/Fishing/LawsSafety/F...   \n153  http://www.ncwildlife.org/Fishing/LawsSafety/F...   \n293  http://www.ncwildlife.org/Fishing/LawsSafety/F...   \n\n                                            Reg_Descri  Displ_Name  \\\n151  lower South Mountains State Park line downstre...  Henry Fork   \n153  lower South Mountains State Park line downstre...  Henry Fork   \n293  lower South Mountains State Park line downstre...  Henry Fork   \n\n      Shape_Leng   Shape_Le_1  Shape_Length  test  \n151  7139.277443  7139.277443   7139.277443   NaN  \n153  3738.625441  3738.625765   3738.625765   NaN  \n293  5738.743046  5738.743046   5738.743046   NaN  \n"
    }
   ],
   "source": [
    "import numpy as np\n",
    "import pandas as pd\n",
    "\n",
    "df = pd.DataFrame({\n",
    "     \"Name\": [\"Braund, Mr. Owen Harris\",\n",
    "            \"Allen, Mr. William Hendfry\",\n",
    "              \"Bonnell, Miss. Elizabeth\"],\n",
    "     \"Age\": [22, 35, 58],\n",
    "     \"Sex\": [\"male\", \"male\", \"female\"]})\n",
    "#df\n",
    "#series1 = df[\"Age\"]\n",
    "#series1.max(), series1.min()\n",
    "\n",
    "#test = df.describe()\n",
    "#test\n",
    "\n",
    "streams = pd.read_csv(r\"C:\\Users\\yuri7100\\Desktop\\Python_AI\\Trout_Streams.csv\")\n",
    "#print(streams[\"Displ_Name\"])\n",
    "#print(streams.dtypes)\n",
    "#print(streams.info)\n",
    "\n",
    "henryFork = streams[(streams[\"Displ_Name\"] == \"Henry Fork\") & (streams[\"WRC_CLASS\"] == \"Hatchery Supported Trout Waters\")]\n",
    "print(henryFork)\n",
    "\n",
    "streams2 = streams[streams[\"Displ_Name\"] == \"Henry Fork\"]\n",
    "#streams2\n",
    "#tst = streams[streams[\"WRC_CLASS\"].isin(\"Hatchery Supported Trout Waters\")]"
   ]
  },
  {
   "cell_type": "code",
   "execution_count": null,
   "metadata": {},
   "outputs": [],
   "source": []
  }
 ],
 "metadata": {
  "language_info": {
   "codemirror_mode": {
    "name": "ipython",
    "version": 3
   },
   "file_extension": ".py",
   "mimetype": "text/x-python",
   "name": "python",
   "nbconvert_exporter": "python",
   "pygments_lexer": "ipython3",
   "version": "3.6.10-final"
  },
  "orig_nbformat": 2,
  "kernelspec": {
   "name": "python3",
   "display_name": "Python 3"
  }
 },
 "nbformat": 4,
 "nbformat_minor": 2
}