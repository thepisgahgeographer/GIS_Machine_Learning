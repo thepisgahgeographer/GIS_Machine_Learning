{
 "cells": [
  {
   "cell_type": "code",
   "execution_count": 17,
   "metadata": {},
   "outputs": [
    {
     "output_type": "stream",
     "name": "stdout",
     "text": "313    5148.673882\n339    5278.581060\n366     927.324350\n388    7350.877178\nName: Shape_Leng, dtype: float64\nWRC_CLASS  Catch and Release/Artificial Lures Only Trout Waters  ...  Wild Trout Waters\n0                                                        NaN     ...         730.629457\n1                                                        NaN     ...         193.250320\n2                                                        NaN     ...         707.570016\n3                                                        NaN     ...        1063.644589\n4                                                        NaN     ...         404.853677\n\n[5 rows x 4 columns]\n"
    },
    {
     "output_type": "execute_result",
     "data": {
      "text/plain": "                                                     Shape_Leng\nWRC_CLASS                                                      \nCatch and Release/Artificial Lures Only Trout W...  2308.583985\nDelayed Harvest Trout Waters                        3640.232576\nHatchery Supported Trout Waters                     5538.881977\nWild Trout Waters                                   1117.507274",
      "text/html": "<div>\n<style scoped>\n    .dataframe tbody tr th:only-of-type {\n        vertical-align: middle;\n    }\n\n    .dataframe tbody tr th {\n        vertical-align: top;\n    }\n\n    .dataframe thead th {\n        text-align: right;\n    }\n</style>\n<table border=\"1\" class=\"dataframe\">\n  <thead>\n    <tr style=\"text-align: right;\">\n      <th></th>\n      <th>Shape_Leng</th>\n    </tr>\n    <tr>\n      <th>WRC_CLASS</th>\n      <th></th>\n    </tr>\n  </thead>\n  <tbody>\n    <tr>\n      <th>Catch and Release/Artificial Lures Only Trout Waters</th>\n      <td>2308.583985</td>\n    </tr>\n    <tr>\n      <th>Delayed Harvest Trout Waters</th>\n      <td>3640.232576</td>\n    </tr>\n    <tr>\n      <th>Hatchery Supported Trout Waters</th>\n      <td>5538.881977</td>\n    </tr>\n    <tr>\n      <th>Wild Trout Waters</th>\n      <td>1117.507274</td>\n    </tr>\n  </tbody>\n</table>\n</div>"
     },
     "metadata": {},
     "execution_count": 17
    }
   ],
   "source": [
    "import numpy as np\n",
    "import pandas as pd\n",
    "import matplotlib as plt\n",
    "from datetime import datetime\n",
    "\n",
    "\n",
    "df = pd.DataFrame({\n",
    "     \"Name\": [\"Braund, Mr. Owen Harris\",\n",
    "            \"Allen, Mr. William Hendfry\",\n",
    "              \"Bonnell, Miss. Elizabeth\"],\n",
    "     \"Age\": [22, 35, 58],\n",
    "     \"Sex\": [\"male\", \"male\", \"female\"]})\n",
    "#df\n",
    "#series1 = df[\"Age\"]\n",
    "#series1.max(), series1.min()\n",
    "\n",
    "#test = df.describe()\n",
    "#test\n",
    "\n",
    "streams = pd.read_csv(r\"C:\\Users\\yuri7100\\Desktop\\Python_AI\\Trout_Streams.csv\")\n",
    "#print(streams[\"Displ_Name\"])\n",
    "#print(streams.dtypes)\n",
    "#print(streams.info)\n",
    "#print(streams)\n",
    "\n",
    "\n",
    "#henryFork = streams[(streams[\"Displ_Name\"] == \"Henry Fork\") & (streams[\"WRC_CLASS\"] == \"Hatchery Supported Trout Waters\")]\n",
    "#print(henryFork)\n",
    "\n",
    "shinnyCreek = streams.loc[streams[\"Displ_Name\"] == \"Shinny Creek\", \"WRC_CLASS\"]\n",
    "#print(shinnyCreek)\n",
    "\n",
    "shinnyCreekLen = streams.loc[streams[\"Displ_Name\"] == \"Shinny Creek\", \"Shape_Leng\"]\n",
    "print(shinnyCreekLen)\n",
    "\n",
    "henryFork = streams.loc[(streams[\"Displ_Name\"] == \"Henry Fork\") & (streams[\"WRC_CLASS\"] == \"Hatchery Supported Trout Waters\"), \"Reg_Descri\"]\n",
    "#print(henryFork)\n",
    "#print(henryFork.iloc[2:])\n",
    "#streams2 = streams[streams[\"Displ_Name\"] == \"Henry Fork\"]\n",
    "#streams2\n",
    "\n",
    "#streams.plot.scatter(x = \"Shape_Leng\", y = \"WRC_CLASS\")\n",
    "#print([method_name for method_name in dir(streams.plot)])\n",
    "#streams.plot.box()\n",
    "#df.plot()\n",
    "\n",
    "#Create a new column based upon information from the DataFrame & a feature level Query\n",
    "streams[\"Creek_Length\"] = streams[\"Shape_Leng\"]<500\n",
    "#streams.head(25).plot()\n",
    "\n",
    "streams[\"Creek_Mileage\"] = streams[\"Shape_Leng\"] / 5280\n",
    "streams.head(5)\n",
    "\n",
    "#Rename a column from the Data Frame based upon the rename() function\n",
    "Rename = streams.rename(columns={\"WRC_CLASS\": \"Regulations\", \"Reg_Descri\": \"Location\"})\n",
    "\n",
    "#Pass Python functions into the table logic\n",
    "Rename2 = streams.rename(columns=str.lower)\n",
    "\n",
    "\n",
    "######################################## Working With Tabular Statistics\n",
    "#Individual column stats\n",
    "Stats = streams[\"Shape_Leng\"].mean()\n",
    "Stats2 = streams[\"Shape_Leng\"].describe()\n",
    "\n",
    "#Pull specific statistics by field\n",
    "streams.agg({'Shape_Leng': ['min', 'max', 'median', 'skew'],\n",
    "             'WRC_CLASS': ['min', 'max', 'median', 'mean']})\n",
    "\n",
    "#groupby function\n",
    "streams[[\"Shape_Leng\", \"WRC_CLASS\"]].groupby(\"WRC_CLASS\").mean()\n",
    "\n",
    "streams.groupby([\"WRC_CLASS\", \"Displ_Name\"])[\"Shape_Leng\"].mean()\n",
    "\n",
    "#Numeric Counts by Field Type/Column\n",
    "streams[\"WRC_CLASS\"].value_counts()\n",
    "\n",
    "#Statistcs summarized by single column\n",
    "#streams.pivot(columns=\"WRC_CLASS\", values=\"Shape_Leng\").plot()\n",
    "wide = streams.pivot(columns=\"WRC_CLASS\", values=\"Shape_Leng\").head(5)\n",
    "print(wide)\n",
    "streams.pivot_table(values=\"Shape_Leng\", index=\"WRC_CLASS\", aggfunc=\"mean\")\n",
    "\n",
    "\n"
   ]
  },
  {
   "cell_type": "code",
   "execution_count": null,
   "metadata": {},
   "outputs": [],
   "source": []
  },
  {
   "cell_type": "code",
   "execution_count": null,
   "metadata": {},
   "outputs": [],
   "source": []
  }
 ],
 "metadata": {
  "language_info": {
   "codemirror_mode": {
    "name": "ipython",
    "version": 3
   },
   "file_extension": ".py",
   "mimetype": "text/x-python",
   "name": "python",
   "nbconvert_exporter": "python",
   "pygments_lexer": "ipython3",
   "version": "3.6.10-final"
  },
  "orig_nbformat": 2,
  "kernelspec": {
   "name": "python3",
   "display_name": "Python 3"
  }
 },
 "nbformat": 4,
 "nbformat_minor": 2
}