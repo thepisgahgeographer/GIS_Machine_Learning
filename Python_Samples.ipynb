{
 "cells": [
  {
   "cell_type": "markdown",
   "metadata": {},
   "source": [
    "### Python Language Misc."
   ]
  },
  {
   "cell_type": "code",
   "execution_count": null,
   "metadata": {},
   "outputs": [],
   "source": [
    "from pathlib import Path\n",
    "import fastai\n",
    "from fastai import utils\n",
    "import platform\n",
    "\n",
    "print(\"5\"*10)\n",
    "\n",
    "for letter in \"Wilson Creek\":\n",
    "    print(letter, end=':')\n",
    "\n",
    "x = 1 if True else 2\n",
    "x"
   ]
  },
  {
   "cell_type": "markdown",
   "metadata": {},
   "source": [
    "### Working with pathlib"
   ]
  },
  {
   "cell_type": "code",
   "execution_count": null,
   "metadata": {},
   "outputs": [],
   "source": [
    "#Working with PurePaths through pathlib\n",
    "p = Path(\"C:\\GIS_Data\")\n",
    "print([x for x in p.iterdir() if x.is_dir()])\n",
    "print(list(p.glob('**/*.las')))\n",
    "\n",
    "print(platform)\n",
    "print('this is version {}.'.format(platform.python_version()))"
   ]
  },
  {
   "cell_type": "markdown",
   "metadata": {},
   "source": [
    "## Arrays \n",
    "\n",
    "### Dictionaries"
   ]
  },
  {
   "cell_type": "code",
   "execution_count": null,
   "metadata": {},
   "outputs": [],
   "source": [
    "Bike = {\n",
    "    \"color\": \"Gunmetal\",\n",
    "    \"Frame\": \"Large\",\n",
    "    \"travel\": 160,\n",
    "    \"Seatpost Drop\": 175\n",
    "}\n",
    "\n",
    "Gravel = {\n",
    "    \"Brand\": \"Salsa\"\n",
    "}\n",
    "\n",
    "Bike[\"color\"]\n",
    "print(Bike.get(\"travel\"))\n",
    "\n",
    "for key, val in Bike.items():\n",
    "    print(\"Key is: {}   Value is: {}\".format(key, prop))\n",
    "\n",
    "#add Key/Value pair to Dictionary\n",
    "Bike[\"Wheels\"]= \"Easton\"\n",
    "print(Bike)\n",
    "\n",
    "Bike.update(Gravel)\n",
    "print(Bike)\n",
    "\n",
    "del Bike[\"Seatpost Drop\"]\n",
    "Bike\n",
    "\n",
    "#Bike.has_key(\"Brand\")\n",
    "#Dictionary comprehension {k, v for K in iterable}\n",
    "{x:x**2 for x in range(5)}"
   ]
  },
  {
   "cell_type": "markdown",
   "metadata": {},
   "source": [
    "### Sets & Tuples   "
   ]
  },
  {
   "cell_type": "code",
   "execution_count": null,
   "metadata": {},
   "outputs": [],
   "source": [
    "#Unordered\n",
    "setA = set(\"Yuri A Potawsky\")\n",
    "setA.add(\"Lenoir\")\n",
    "#setA.remove(\"Lenoir\")\n",
    "#setA.clear()\n",
    "#setA.intersection(Pass this function another set to determine presence in 2 sets)\n",
    "#setA.difference()\n",
    "print(setA)\n",
    "\n",
    "#Ordered & Unchangeable\n",
    "tupleA = (\"Yuri\", \"A\", \"Potawsky\")\n",
    "tupleA[1]"
   ]
  },
  {
   "cell_type": "markdown",
   "metadata": {},
   "source": [
    "#### Lists"
   ]
  },
  {
   "cell_type": "code",
   "execution_count": null,
   "metadata": {},
   "outputs": [],
   "source": [
    "companies = [\"Esri\", \"Microsoft\", \"USGS\"]\n",
    "print(companies[0])\n",
    "\n",
    "\n",
    "#Two Dimensional Lists\n",
    "companies2 = [[\"Ragley, YT\"], [\"Canyon\",\"Salsa\"]]\n",
    "print(companies2[0])\n",
    "\n",
    "companies2.append(\"Transition\")\n",
    "companies2.insert(0, \"Commencal\")\n",
    "companies2.index(\"Commencal\")\n",
    "companies2.extend([\"Specialized\"])\n",
    "companies2\n",
    "\n",
    "#.remove(\"Value\") & .pop()\n",
    "#.sort() & .revers \n",
    "\n",
    "# List Comprehension  [ compute(var) for var in iterable ]\n",
    "[x for x in range(10)]"
   ]
  },
  {
   "cell_type": "markdown",
   "metadata": {},
   "source": [
    "### For Loops"
   ]
  },
  {
   "cell_type": "code",
   "execution_count": null,
   "metadata": {},
   "outputs": [],
   "source": [
    "for index, val in enumerate(Bike):\n",
    "    print(\"Index: {}\".format(index))\n",
    "    print(val)\n",
    "\n",
    "for vals in range(1,10):\n",
    "    for values in range(1,10):\n",
    "        print(\"{} X {} = {}\".format(vals, values, vals*values))"
   ]
  },
  {
   "cell_type": "markdown",
   "metadata": {},
   "source": [
    "### Classes & Objects"
   ]
  },
  {
   "cell_type": "code",
   "execution_count": null,
   "metadata": {},
   "outputs": [],
   "source": [
    "class statePark:\n",
    "    def __init__(self, name, county, acreage, camping):\n",
    "        self.name = name\n",
    "        self.county = county\n",
    "        self.acreage = acreage\n",
    "        self.camping = camping\n",
    "        self.trails = []\n",
    "\n",
    "    def change_Name(self, change_name):\n",
    "        self.name = change_name\n",
    "\n",
    "    def create_Atts(self,attribute):\n",
    "        self.trails.append(attribute)\n",
    "        return attribute\n",
    "\n",
    "SM = statePark(\"South Mountains\", \"Burke\", 20642, \"Yes\")\n",
    "\n",
    "SM.create_Atts(\"closed\")\n",
    "SM.acreage\n",
    "Trail1 = SM.create_Atts(\"Shinny Creek\")\n",
    "Trail2 = SM.create_Atts(\"Sawtooth\")\n",
    "print(Trail1, Trail2)\n"
   ]
  },
  {
   "cell_type": "markdown",
   "metadata": {},
   "source": [
    "AI Python Samples - Inline Chartss/Graphs with Matplotlib"
   ]
  },
  {
   "cell_type": "code",
   "execution_count": null,
   "metadata": {},
   "outputs": [],
   "source": [
    "%matplotlib inline\n",
    "import matplotlib as plt\n",
    "from fastai.basics import *\n",
    "\n",
    "n = 100\n",
    "x = torch.ones(n,2) \n",
    "x[:,0].uniform_(-1.,1)\n",
    "x[:5]\n",
    "\n",
    "a = tensor(3.,2); a\n",
    "\n",
    "y = x@a + torch.rand(n)\n",
    "#print(x)\n",
    "one = plt.scatter(x[:,0], y)\n",
    "one\n",
    "\n",
    "N = 500\n",
    "x = np.random.rand(N)\n",
    "y = np.random.rand(N)\n",
    "two = plt.scatter(x,y)\n",
    "two\n"
   ]
  },
  {
   "cell_type": "code",
   "execution_count": null,
   "metadata": {},
   "outputs": [],
   "source": [
    "from datetime import date, time, timedelta\n",
    "from datetime import datetime\n",
    "from os import path\n",
    "import time\n",
    "import shutil\n",
    "#from shutil import archive\n",
    "\n",
    "def power(num, x):\n",
    "    result = 1\n",
    "    for i in range(x):\n",
    "        result = result*num\n",
    "    return result\n",
    "power(num = 3, x= 2)\n",
    "\"\"\"\n",
    "x, y = 10, 20\n",
    "if (x<y):\n",
    "    print(\"True\")\n",
    "\n",
    "\"\"\"\n",
    "x,y = 10, 50\n",
    "test = \"Test is true\" if (x<y) else \"false\"\n",
    "print(test)\n",
    "\n",
    "x = 5\n",
    "for test in range(0,1):\n",
    "    if (x % 3==1):\n",
    "        print(\"True\")\n",
    "    else:\n",
    "        print(\"False\")\n",
    "\n",
    "\n",
    "class Hibriten():\n",
    "    def __init__(self, Name):\n",
    "        self.Name = Name\n",
    "\n",
    "#    def test(self):\n",
    "#        print(\"Method 1\")\n",
    "\n",
    "final = Hibriten(\"Turkey_Hen\")\n",
    "final.Name\n",
    "\n",
    "today = date.today()\n",
    "today.day, today.month, today.weekday()\n",
    "now = datetime.now()\n",
    "now.strftime(\"%Y %H %p\")\n",
    "\n",
    "def test():\n",
    "    f = open(r\"C:\\Users\\yuri7100\\Desktop\\test.txt\", \"w\")\n",
    "    for i in range(10):\n",
    "        f.write(str(i))\n",
    "f.close\n",
    "test()\n",
    "\n",
    "test = open(r\"C:\\Users\\yuri7100\\Desktop\\test.txt\", \"r\")\n",
    "file = r\"C:\\Users\\yuri7100\\Desktop\\test.txt\"\n",
    "contents = test.read()\n",
    "#print(contents)\n",
    "print(path.realpath(str(test)))\n",
    "\n",
    "if path.exists(file):\n",
    "    src = file\n",
    "    dst = file + \".txt\"\n",
    "    shutil.copy(file, dst)\n",
    "    shutil.copystat(file, dst)\n"
   ]
  },
  {
   "cell_type": "markdown",
   "metadata": {},
   "source": [
    "#### Working With Web Data"
   ]
  },
  {
   "cell_type": "code",
   "execution_count": 142,
   "metadata": {},
   "outputs": [
    {
     "output_type": "stream",
     "name": "stdout",
     "text": "Encountered a start tag: html\nEncountered a start tag: head\nEncountered a start tag: title\nEncountered some data  : Test\nEncountered an end tag : title\nEncountered an end tag : head\nEncountered a start tag: body\nEncountered a start tag: h1\nEncountered some data  : Parse me!\nEncountered an end tag : h1\nEncountered an end tag : body\nEncountered an end tag : html\n"
    }
   ],
   "source": [
    "import urllib.request\n",
    "import json\n",
    "from html.parser import HTMLParser\n",
    "\n",
    "def main():\n",
    "    urlData = r\"https://earthquake.usgs.gov/earthquakes/feed/v1.0/summary/significant_month.geojson\"\n",
    "    #urlData = '{\"name\": \"Ragley\", \"travel\":160}'\n",
    "    webUrl = urllib.request.urlopen(\"https://thepisgahgeo.maps.arcgis.com\")\n",
    "    print(\"Result Code is: \" + str(webUrl.getcode()))\n",
    "    data = webUrl.read()\n",
    "   \n",
    "    print(urlData)\n",
    "    test = json.loads(urlData)\n",
    "    print(test[\"features\"][\"type\"])\n",
    "\n",
    "\n",
    "\n",
    "from html.parser import HTMLParser\n",
    "\n",
    "class MyHTMLParser(HTMLParser):\n",
    "    def handle_starttag(self, tag, attrs):\n",
    "        print(\"Encountered a start tag:\", tag)\n",
    "\n",
    "    def handle_endtag(self, tag):\n",
    "        print(\"Encountered an end tag :\", tag)\n",
    "\n",
    "    def handle_data(self, data):\n",
    "        print(\"Encountered some data  :\", data)\n",
    "\n",
    "parser = MyHTMLParser()\n",
    "parser.feed('<html><head><title>Test</title></head>'\n",
    "            '<body><h1>Parse me!</h1></body></html>')"
   ]
  },
  {
   "cell_type": "code",
   "execution_count": null,
   "metadata": {},
   "outputs": [],
   "source": []
  }
 ],
 "metadata": {
  "language_info": {
   "codemirror_mode": {
    "name": "ipython",
    "version": 3
   },
   "file_extension": ".py",
   "mimetype": "text/x-python",
   "name": "python",
   "nbconvert_exporter": "python",
   "pygments_lexer": "ipython3",
   "version": "3.6.10-final"
  },
  "orig_nbformat": 2,
  "kernelspec": {
   "name": "python3",
   "display_name": "Python 3"
  }
 },
 "nbformat": 4,
 "nbformat_minor": 2
}