{
 "cells": [
  {
   "cell_type": "markdown",
   "metadata": {},
   "source": [
    "### Python Language Misc."
   ]
  },
  {
   "cell_type": "code",
   "execution_count": null,
   "metadata": {},
   "outputs": [],
   "source": [
    "from pathlib import Path\n",
    "import fastai\n",
    "from fastai import utils\n",
    "import platform\n",
    "\n",
    "print(\"5\"*10)\n",
    "\n",
    "for letter in \"Wilson Creek\":\n",
    "    print(letter, end=':')\n",
    "\n",
    "\n"
   ]
  },
  {
   "cell_type": "markdown",
   "metadata": {},
   "source": [
    "### Working with pathlib"
   ]
  },
  {
   "cell_type": "code",
   "execution_count": null,
   "metadata": {},
   "outputs": [],
   "source": [
    "#Working with PurePaths through pathlib\n",
    "p = Path(\"C:\\GIS_Data\")\n",
    "print([x for x in p.iterdir() if x.is_dir()])\n",
    "print(list(p.glob('**/*.las')))\n",
    "\n",
    "print(platform)\n",
    "print('this is version {}.'.format(platform.python_version()))"
   ]
  },
  {
   "cell_type": "markdown",
   "metadata": {},
   "source": [
    "## Arrays \n",
    "\n",
    "### Dictionaries"
   ]
  },
  {
   "cell_type": "code",
   "execution_count": null,
   "metadata": {},
   "outputs": [],
   "source": [
    "Bike = {\n",
    "    \"color\": \"Gunmetal\",\n",
    "    \"Frame\": \"Large\",\n",
    "    \"travel\": 160\n",
    "}"
   ]
  },
  {
   "cell_type": "markdown",
   "metadata": {},
   "source": [
    "#### Lists"
   ]
  },
  {
   "cell_type": "code",
   "execution_count": 18,
   "metadata": {},
   "outputs": [
    {
     "output_type": "stream",
     "name": "stdout",
     "text": "Esri\n['Ragley, YT']\n"
    },
    {
     "output_type": "execute_result",
     "data": {
      "text/plain": "['Commencal', ['Ragley, YT'], ['Canyon', 'Salsa'], 'Transition', 'Specialized']"
     },
     "metadata": {},
     "execution_count": 18
    }
   ],
   "source": [
    "companies = [\"Esri\", \"Microsoft\", \"USGS\"]\n",
    "print(companies[0])\n",
    "\n",
    "\n",
    "#Two Dimensional Lists\n",
    "companies2 = [[\"Ragley, YT\"], [\"Canyon\",\"Salsa\"]]\n",
    "print(companies2[0])\n",
    "\n",
    "companies2.append(\"Transition\")\n",
    "companies2.insert(0, \"Commencal\")\n",
    "companies2.index(\"Commencal\")\n",
    "companies2.extend([\"Specialized\"])\n",
    "companies2\n",
    "\n",
    "#.remove(\"Value\") & .pop()\n",
    "#.sort() & .revers "
   ]
  },
  {
   "cell_type": "markdown",
   "metadata": {},
   "source": [
    "### For Loops"
   ]
  },
  {
   "cell_type": "code",
   "execution_count": null,
   "metadata": {},
   "outputs": [],
   "source": [
    "for index, val in enumerate(Bike):\n",
    "    print(\"Index: {}\".format(index))\n",
    "    print(val)\n",
    "\n",
    "for vals in range(1,10):\n",
    "    for values in range(1,10):\n",
    "        print(\"{} X {} = {}\".format(vals, values, vals*values))"
   ]
  }
 ],
 "metadata": {
  "language_info": {
   "codemirror_mode": {
    "name": "ipython",
    "version": 3
   },
   "file_extension": ".py",
   "mimetype": "text/x-python",
   "name": "python",
   "nbconvert_exporter": "python",
   "pygments_lexer": "ipython3",
   "version": "3.6.10-final"
  },
  "orig_nbformat": 2,
  "kernelspec": {
   "name": "python3",
   "display_name": "Python 3"
  }
 },
 "nbformat": 4,
 "nbformat_minor": 2
}