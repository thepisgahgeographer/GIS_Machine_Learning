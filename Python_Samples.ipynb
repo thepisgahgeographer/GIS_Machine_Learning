{
 "cells": [
  {
   "cell_type": "markdown",
   "metadata": {},
   "source": [
    "### Python Language Misc."
   ]
  },
  {
   "cell_type": "code",
   "execution_count": null,
   "metadata": {},
   "outputs": [],
   "source": [
    "from pathlib import Path\n",
    "import fastai\n",
    "from fastai import utils\n",
    "import platform\n",
    "\n",
    "print(\"5\"*10)\n",
    "\n",
    "for letter in \"Wilson Creek\":\n",
    "    print(letter, end=':')\n",
    "\n",
    "x = 1 if True else 2\n",
    "x"
   ]
  },
  {
   "cell_type": "markdown",
   "metadata": {},
   "source": [
    "### Working with pathlib"
   ]
  },
  {
   "cell_type": "code",
   "execution_count": null,
   "metadata": {},
   "outputs": [],
   "source": [
    "#Working with PurePaths through pathlib\n",
    "p = Path(\"C:\\GIS_Data\")\n",
    "print([x for x in p.iterdir() if x.is_dir()])\n",
    "print(list(p.glob('**/*.las')))\n",
    "\n",
    "print(platform)\n",
    "print('this is version {}.'.format(platform.python_version()))"
   ]
  },
  {
   "cell_type": "markdown",
   "metadata": {},
   "source": [
    "## Arrays \n",
    "\n",
    "### Dictionaries"
   ]
  },
  {
   "cell_type": "code",
   "execution_count": null,
   "metadata": {},
   "outputs": [],
   "source": [
    "Bike = {\n",
    "    \"color\": \"Gunmetal\",\n",
    "    \"Frame\": \"Large\",\n",
    "    \"travel\": 160,\n",
    "    \"Seatpost Drop\": 175\n",
    "}\n",
    "\n",
    "Gravel = {\n",
    "    \"Brand\": \"Salsa\"\n",
    "}\n",
    "\n",
    "Bike[\"color\"]\n",
    "print(Bike.get(\"travel\"))\n",
    "\n",
    "for key, val in Bike.items():\n",
    "    print(\"Key is: {}   Value is: {}\".format(key, prop))\n",
    "\n",
    "#add Key/Value pair to Dictionary\n",
    "Bike[\"Wheels\"]= \"Easton\"\n",
    "print(Bike)\n",
    "\n",
    "Bike.update(Gravel)\n",
    "print(Bike)\n",
    "\n",
    "del Bike[\"Seatpost Drop\"]\n",
    "Bike\n",
    "\n",
    "#Bike.has_key(\"Brand\")\n",
    "#Dictionary comprehension {k, v for K in iterable}\n",
    "{x:x**2 for x in range(5)}"
   ]
  },
  {
   "cell_type": "markdown",
   "metadata": {},
   "source": [
    "### Sets & Tuples   "
   ]
  },
  {
   "cell_type": "code",
   "execution_count": null,
   "metadata": {},
   "outputs": [],
   "source": [
    "#Unordered\n",
    "setA = set(\"Yuri A Potawsky\")\n",
    "setA.add(\"Lenoir\")\n",
    "#setA.remove(\"Lenoir\")\n",
    "#setA.clear()\n",
    "#setA.intersection(Pass this function another set to determine presence in 2 sets)\n",
    "#setA.difference()\n",
    "print(setA)\n",
    "\n",
    "#Ordered & Unchangeable\n",
    "tupleA = (\"Yuri\", \"A\", \"Potawsky\")\n",
    "tupleA[1]"
   ]
  },
  {
   "cell_type": "markdown",
   "metadata": {},
   "source": [
    "#### Lists"
   ]
  },
  {
   "cell_type": "code",
   "execution_count": null,
   "metadata": {},
   "outputs": [],
   "source": [
    "companies = [\"Esri\", \"Microsoft\", \"USGS\"]\n",
    "print(companies[0])\n",
    "\n",
    "\n",
    "#Two Dimensional Lists\n",
    "companies2 = [[\"Ragley, YT\"], [\"Canyon\",\"Salsa\"]]\n",
    "print(companies2[0])\n",
    "\n",
    "companies2.append(\"Transition\")\n",
    "companies2.insert(0, \"Commencal\")\n",
    "companies2.index(\"Commencal\")\n",
    "companies2.extend([\"Specialized\"])\n",
    "companies2\n",
    "\n",
    "#.remove(\"Value\") & .pop()\n",
    "#.sort() & .revers \n",
    "\n",
    "# List Comprehension  [ compute(var) for var in iterable ]\n",
    "[x for x in range(10)]"
   ]
  },
  {
   "cell_type": "markdown",
   "metadata": {},
   "source": [
    "### For Loops"
   ]
  },
  {
   "cell_type": "code",
   "execution_count": null,
   "metadata": {},
   "outputs": [],
   "source": [
    "for index, val in enumerate(Bike):\n",
    "    print(\"Index: {}\".format(index))\n",
    "    print(val)\n",
    "\n",
    "for vals in range(1,10):\n",
    "    for values in range(1,10):\n",
    "        print(\"{} X {} = {}\".format(vals, values, vals*values))"
   ]
  },
  {
   "cell_type": "markdown",
   "metadata": {},
   "source": [
    "### Classes & Objects"
   ]
  },
  {
   "cell_type": "code",
   "execution_count": null,
   "metadata": {},
   "outputs": [],
   "source": [
    "class statePark:\n",
    "    def __init__(self, name, county, acreage, camping):\n",
    "        self.name = name\n",
    "        self.county = county\n",
    "        self.acreage = acreage\n",
    "        self.camping = camping\n",
    "        self.trails = []\n",
    "\n",
    "    def change_Name(self, change_name):\n",
    "        self.name = change_name\n",
    "\n",
    "    def create_Atts(self,attribute):\n",
    "        self.trails.append(attribute)\n",
    "        return attribute\n",
    "\n",
    "SM = statePark(\"South Mountains\", \"Burke\", 20642, \"Yes\")\n",
    "\n",
    "SM.create_Atts(\"closed\")\n",
    "SM.acreage\n",
    "Trail1 = SM.create_Atts(\"Shinny Creek\")\n",
    "Trail2 = SM.create_Atts(\"Sawtooth\")\n",
    "print(Trail1, Trail2)\n"
   ]
  },
  {
   "cell_type": "markdown",
   "metadata": {},
   "source": [
    "AI Python Samples - Inline Chartss/Graphs with Matplotlib"
   ]
  },
  {
   "cell_type": "code",
   "execution_count": null,
   "metadata": {},
   "outputs": [],
   "source": [
    "%matplotlib inline\n",
    "import matplotlib as plt\n",
    "from fastai.basics import *\n",
    "\n",
    "n = 100\n",
    "x = torch.ones(n,2) \n",
    "x[:,0].uniform_(-1.,1)\n",
    "x[:5]\n",
    "\n",
    "a = tensor(3.,2); a\n",
    "\n",
    "y = x@a + torch.rand(n)\n",
    "#print(x)\n",
    "one = plt.scatter(x[:,0], y)\n",
    "one\n",
    "\n",
    "N = 500\n",
    "x = np.random.rand(N)\n",
    "y = np.random.rand(N)\n",
    "two = plt.scatter(x,y)\n",
    "two\n"
   ]
  },
  {
   "cell_type": "code",
   "execution_count": 42,
   "metadata": {},
   "outputs": [
    {
     "output_type": "stream",
     "name": "stdout",
     "text": "Test is true\nFalse\nMethod 1\n"
    }
   ],
   "source": [
    "\n",
    "def power(num, x):\n",
    "    result = 1\n",
    "    for i in range(x):\n",
    "        result = result*num\n",
    "    return result\n",
    "power(num = 3, x= 2)\n",
    "\"\"\"\n",
    "x, y = 10, 20\n",
    "if (x<y):\n",
    "    print(\"True\")\n",
    "\n",
    "\"\"\"\n",
    "x,y = 10, 50\n",
    "test = \"Test is true\" if (x<y) else \"false\"\n",
    "print(test)\n",
    "\n",
    "x = 5\n",
    "for test in range(0,1):\n",
    "    if (x % 3==1):\n",
    "        print(\"True\")\n",
    "    else:\n",
    "        print(\"False\")\n",
    "\n",
    "\n",
    "\n",
    "class Hibriten():\n",
    "    def test(self):\n",
    "        print(\"Method 1\")\n",
    "\n",
    "final = Hibriten()\n",
    "final.test()"
   ]
  },
  {
   "cell_type": "code",
   "execution_count": null,
   "metadata": {},
   "outputs": [],
   "source": []
  }
 ],
 "metadata": {
  "language_info": {
   "codemirror_mode": {
    "name": "ipython",
    "version": 3
   },
   "file_extension": ".py",
   "mimetype": "text/x-python",
   "name": "python",
   "nbconvert_exporter": "python",
   "pygments_lexer": "ipython3",
   "version": "3.6.10-final"
  },
  "orig_nbformat": 2,
  "kernelspec": {
   "name": "python3",
   "display_name": "Python 3"
  }
 },
 "nbformat": 4,
 "nbformat_minor": 2
}